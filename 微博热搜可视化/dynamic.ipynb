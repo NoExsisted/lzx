{
 "cells": [
  {
   "cell_type": "code",
   "execution_count": 1,
   "id": "947bfe69",
   "metadata": {
    "scrolled": false
   },
   "outputs": [
    {
     "name": "stdout",
     "output_type": "stream",
     "text": [
      "29750\n"
     ]
    },
    {
     "data": {
      "text/plain": [
       "'tl = Timeline({\"theme\": ThemeType.MACARONS})\\nfor i in range(588):    \\n    bar = (Bar()\\n            .add_xaxis(list(data.iloc[:, 0])[i*50 : i*50 + 20][::-1])\\n            .add_yaxis(\"微博热搜榜\", list(data.iloc[:, 2])[i*50 : i*50 + 20][::-1]).reversal_axis()\\n            .set_series_opts(label_opts = opts.LabelOpts(position = \"inside\"))\\n            .set_global_opts(title_opts=opts.TitleOpts(list(data.iloc[:, 4])[i*50 : i*50 + 1])))\\n    tl.add(bar, \\'\\')\\n    grid = (Grid().add(bar, grid_opts=opts.GridOpts(pos_left = \"20%\",pos_right = \"0%\")))  #将图形整体右移\\n    tl.add(grid, \\'\\')\\n    tl.add_schema(play_interval = 150, is_timeline_show = True, is_auto_play = False, is_loop_play = False)\\n    \\ntl.render(\\'hot.html\\')'"
      ]
     },
     "execution_count": 1,
     "metadata": {},
     "output_type": "execute_result"
    }
   ],
   "source": [
    "import pandas as pd\n",
    "from pyecharts import options as opts\n",
    "from pyecharts.charts import Bar, Timeline, Grid\n",
    "from pyecharts.faker import Faker\n",
    "from pyecharts.globals import ThemeType\n",
    "from pyecharts.globals import CurrentConfig, NotebookType\n",
    "CurrentConfig.NOTEBOOK_TYPE = NotebookType.JUPYTER_NOTEBOOK\n",
    "\n",
    "f_1 = pd.read_csv('D:/code/days/12_15.csv', header = None, encoding = 'utf-8-sig')\n",
    "f_2 = pd.read_csv('D:/code/days/12_16.csv', header = None, encoding = 'utf-8-sig')\n",
    "f_3 = pd.read_csv('D:/code/days/12_17.csv', header = None, encoding = 'utf-8-sig')\n",
    "f_4 = pd.read_csv('D:/code/days/12_18.csv', header = None, encoding = 'utf-8-sig')\n",
    "f_5 = pd.read_csv('D:/code/days/12_19.csv', header = None, encoding = 'utf-8-sig')\n",
    "f_6 = pd.read_csv('D:/code/days/12_20.csv', header = None, encoding = 'utf-8-sig')\n",
    "f_7 = pd.read_csv('D:/code/days/12_21.csv', header = None, encoding = 'utf-8-sig')\n",
    "l = [f_1, f_2, f_3, f_4, f_5, f_6, f_7]\n",
    "data = pd.concat(l)\n",
    "data = data.dropna()\n",
    "print(data.shape[0])\n",
    "tl = Timeline({\"theme\": ThemeType.MACARONS})\n",
    "for i in range(588):    \n",
    "    bar = (Bar()\n",
    "            .add_xaxis(list(data.iloc[:, 0])[i*50 : i*50 + 20][::-1])\n",
    "            .add_yaxis(\"微博热搜榜\", list(data.iloc[:, 2])[i*50 : i*50 + 20][::-1]).reversal_axis()\n",
    "            .set_series_opts(label_opts = opts.LabelOpts(position = \"inside\"))\n",
    "            .set_global_opts(title_opts=opts.TitleOpts(list(data.iloc[:, 4])[i*50 : i*50 + 1])))\n",
    "    tl.add(bar, '')\n",
    "    grid = (Grid().add(bar, grid_opts=opts.GridOpts(pos_left = \"20%\",pos_right = \"0%\")))  #将图形整体右移\n",
    "    tl.add(grid, '')\n",
    "    tl.add_schema(play_interval = 150, is_timeline_show = True, is_auto_play = False, is_loop_play = False)\n",
    "    \n",
    "tl.render('hot.html')"
   ]
  }
 ],
 "metadata": {
  "kernelspec": {
   "display_name": "base",
   "language": "python",
   "name": "python3"
  },
  "language_info": {
   "codemirror_mode": {
    "name": "ipython",
    "version": 3
   },
   "file_extension": ".py",
   "mimetype": "text/x-python",
   "name": "python",
   "nbconvert_exporter": "python",
   "pygments_lexer": "ipython3",
   "version": "3.9.12 (main, Apr  4 2022, 05:22:27) [MSC v.1916 64 bit (AMD64)]"
  },
  "vscode": {
   "interpreter": {
    "hash": "88279d2366fe020547cde40dd65aa0e3aa662a6ec1f3ca12d88834876c85e1a6"
   }
  }
 },
 "nbformat": 4,
 "nbformat_minor": 5
}
